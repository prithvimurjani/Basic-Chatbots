{
  "nbformat": 4,
  "nbformat_minor": 0,
  "metadata": {
    "colab": {
      "name": "Q & A Chatbot.ipynb",
      "provenance": [],
      "collapsed_sections": []
    },
    "kernelspec": {
      "name": "python3",
      "display_name": "Python 3"
    },
    "language_info": {
      "name": "python"
    },
    "accelerator": "GPU"
  },
  "cells": [
    {
      "cell_type": "code",
      "execution_count": 1,
      "metadata": {
        "id": "LDFMPQVe5hQd"
      },
      "outputs": [],
      "source": [
        "# Load the data\n",
        "# Explore the data format\n",
        "# Create a vocabulary"
      ]
    },
    {
      "cell_type": "code",
      "source": [
        "import pickle\n",
        "import numpy as np"
      ],
      "metadata": {
        "id": "mrXpiQvl55Eo"
      },
      "execution_count": 2,
      "outputs": []
    },
    {
      "cell_type": "code",
      "source": [
        "with open('train_qa.txt', 'rb') as f:\n",
        "  train_data = pickle.load(f)"
      ],
      "metadata": {
        "id": "PHUblDnw6AMx"
      },
      "execution_count": 3,
      "outputs": []
    },
    {
      "cell_type": "code",
      "source": [
        "with open('test_qa.txt', 'rb') as f:\n",
        "  test_data = pickle.load(f)"
      ],
      "metadata": {
        "id": "ZLPVkkgN6I1M"
      },
      "execution_count": 4,
      "outputs": []
    },
    {
      "cell_type": "code",
      "source": [
        "type(train_data)"
      ],
      "metadata": {
        "colab": {
          "base_uri": "https://localhost:8080/"
        },
        "id": "ewjsfWHK6Y3s",
        "outputId": "932d756c-24f5-4da1-de1e-a6c176fcb809"
      },
      "execution_count": 5,
      "outputs": [
        {
          "output_type": "execute_result",
          "data": {
            "text/plain": [
              "list"
            ]
          },
          "metadata": {},
          "execution_count": 5
        }
      ]
    },
    {
      "cell_type": "code",
      "source": [
        "type(test_data)"
      ],
      "metadata": {
        "colab": {
          "base_uri": "https://localhost:8080/"
        },
        "id": "FftBOkbu6aQO",
        "outputId": "afc0bdf8-4046-4ec0-b5fc-2249c235e418"
      },
      "execution_count": 6,
      "outputs": [
        {
          "output_type": "execute_result",
          "data": {
            "text/plain": [
              "list"
            ]
          },
          "metadata": {},
          "execution_count": 6
        }
      ]
    },
    {
      "cell_type": "code",
      "source": [
        "len(train_data)"
      ],
      "metadata": {
        "colab": {
          "base_uri": "https://localhost:8080/"
        },
        "id": "TAW_8ITD6bFm",
        "outputId": "ce078e2d-77d3-41e3-9289-76494b1118ea"
      },
      "execution_count": 7,
      "outputs": [
        {
          "output_type": "execute_result",
          "data": {
            "text/plain": [
              "10000"
            ]
          },
          "metadata": {},
          "execution_count": 7
        }
      ]
    },
    {
      "cell_type": "code",
      "source": [
        "len(test_data)"
      ],
      "metadata": {
        "colab": {
          "base_uri": "https://localhost:8080/"
        },
        "id": "XQBkzBwh6b-A",
        "outputId": "c19f8c6c-5605-4c28-86bb-7fcaa3f9511c"
      },
      "execution_count": 8,
      "outputs": [
        {
          "output_type": "execute_result",
          "data": {
            "text/plain": [
              "1000"
            ]
          },
          "metadata": {},
          "execution_count": 8
        }
      ]
    },
    {
      "cell_type": "code",
      "source": [
        "# The train data is a list of tuples of the story, question, answer\n",
        "train_data[0]"
      ],
      "metadata": {
        "colab": {
          "base_uri": "https://localhost:8080/"
        },
        "id": "nWdsaaZs6dAl",
        "outputId": "30efed36-a762-499c-af09-6174eef82773"
      },
      "execution_count": 9,
      "outputs": [
        {
          "output_type": "execute_result",
          "data": {
            "text/plain": [
              "(['Mary',\n",
              "  'moved',\n",
              "  'to',\n",
              "  'the',\n",
              "  'bathroom',\n",
              "  '.',\n",
              "  'Sandra',\n",
              "  'journeyed',\n",
              "  'to',\n",
              "  'the',\n",
              "  'bedroom',\n",
              "  '.'],\n",
              " ['Is', 'Sandra', 'in', 'the', 'hallway', '?'],\n",
              " 'no')"
            ]
          },
          "metadata": {},
          "execution_count": 9
        }
      ]
    },
    {
      "cell_type": "code",
      "source": [
        "' '.join(train_data[0][0])"
      ],
      "metadata": {
        "colab": {
          "base_uri": "https://localhost:8080/",
          "height": 36
        },
        "id": "iErScKzp6d4d",
        "outputId": "32c07c62-25cd-491d-f7b4-1ea160e6c1af"
      },
      "execution_count": 10,
      "outputs": [
        {
          "output_type": "execute_result",
          "data": {
            "application/vnd.google.colaboratory.intrinsic+json": {
              "type": "string"
            },
            "text/plain": [
              "'Mary moved to the bathroom . Sandra journeyed to the bedroom .'"
            ]
          },
          "metadata": {},
          "execution_count": 10
        }
      ]
    },
    {
      "cell_type": "code",
      "source": [
        "' '.join(train_data[0][1])"
      ],
      "metadata": {
        "colab": {
          "base_uri": "https://localhost:8080/",
          "height": 36
        },
        "id": "49E5rVDp7GRK",
        "outputId": "054bd013-cfbc-4a4b-e182-6671a4c54024"
      },
      "execution_count": 11,
      "outputs": [
        {
          "output_type": "execute_result",
          "data": {
            "application/vnd.google.colaboratory.intrinsic+json": {
              "type": "string"
            },
            "text/plain": [
              "'Is Sandra in the hallway ?'"
            ]
          },
          "metadata": {},
          "execution_count": 11
        }
      ]
    },
    {
      "cell_type": "code",
      "source": [
        "train_data[0][2]"
      ],
      "metadata": {
        "colab": {
          "base_uri": "https://localhost:8080/",
          "height": 36
        },
        "id": "ZbqePA8J7MAR",
        "outputId": "d41a1b74-25f7-46bf-ef62-1ff902f4178b"
      },
      "execution_count": 12,
      "outputs": [
        {
          "output_type": "execute_result",
          "data": {
            "application/vnd.google.colaboratory.intrinsic+json": {
              "type": "string"
            },
            "text/plain": [
              "'no'"
            ]
          },
          "metadata": {},
          "execution_count": 12
        }
      ]
    },
    {
      "cell_type": "code",
      "source": [
        "# Now, a vocabulary of the dataset is built [Both train and test data must be taken into account]\n",
        "\n",
        "all_data = test_data + train_data\n",
        "len(all_data)"
      ],
      "metadata": {
        "colab": {
          "base_uri": "https://localhost:8080/"
        },
        "id": "qAery93D7Pof",
        "outputId": "4fd9eae6-ebe7-427b-fa0c-25225ad70172"
      },
      "execution_count": 13,
      "outputs": [
        {
          "output_type": "execute_result",
          "data": {
            "text/plain": [
              "11000"
            ]
          },
          "metadata": {},
          "execution_count": 13
        }
      ]
    },
    {
      "cell_type": "markdown",
      "source": [
        "Creating a vocabulary of all words in our dataset."
      ],
      "metadata": {
        "id": "beuoI8by9MrW"
      }
    },
    {
      "cell_type": "code",
      "source": [
        "set(train_data[0][0])"
      ],
      "metadata": {
        "colab": {
          "base_uri": "https://localhost:8080/"
        },
        "id": "qt7yqyZ68SST",
        "outputId": "82768bb2-f5db-46e0-da1a-0d3ba8421e96"
      },
      "execution_count": 14,
      "outputs": [
        {
          "output_type": "execute_result",
          "data": {
            "text/plain": [
              "{'.',\n",
              " 'Mary',\n",
              " 'Sandra',\n",
              " 'bathroom',\n",
              " 'bedroom',\n",
              " 'journeyed',\n",
              " 'moved',\n",
              " 'the',\n",
              " 'to'}"
            ]
          },
          "metadata": {},
          "execution_count": 14
        }
      ]
    },
    {
      "cell_type": "code",
      "source": [
        "vocab = set()\n",
        "\n",
        "for story, question, answer in all_data:\n",
        "  # Set of words in stories in all_data\n",
        "  vocab = vocab.union(set(story))\n",
        "  # Set of words in questions in all_data\n",
        "  vocab = vocab.union(set(question))\n",
        "\n",
        "# Set of words in answers in all_data\n",
        "vocab.add('no')\n",
        "vocab.add('yes')"
      ],
      "metadata": {
        "id": "YERTQOFN7kV_"
      },
      "execution_count": 15,
      "outputs": []
    },
    {
      "cell_type": "code",
      "source": [
        "print(vocab, end = ' ')"
      ],
      "metadata": {
        "colab": {
          "base_uri": "https://localhost:8080/"
        },
        "id": "V1RZGDsB9CDf",
        "outputId": "e64b30f6-3223-4484-d42c-86b274f80274"
      },
      "execution_count": 16,
      "outputs": [
        {
          "output_type": "stream",
          "name": "stdout",
          "text": [
            "{'bedroom', 'bathroom', 'Is', 'up', 'got', '?', 'hallway', 'discarded', 'in', 'picked', 'travelled', 'to', 'down', 'took', 'dropped', 'there', 'left', 'went', 'the', 'John', 'grabbed', 'put', 'Mary', 'yes', 'office', 'no', 'milk', 'back', 'apple', 'moved', 'Daniel', 'garden', 'football', '.', 'journeyed', 'kitchen', 'Sandra'} "
          ]
        }
      ]
    },
    {
      "cell_type": "code",
      "source": [
        "# Increasing vocabulary length by 1, as keras padding sequences uses 0 as a placeholder\n",
        "vocab_length = len(vocab) + 1\n",
        "vocab_length"
      ],
      "metadata": {
        "colab": {
          "base_uri": "https://localhost:8080/"
        },
        "id": "VqcqEyFC9Gkv",
        "outputId": "eddc6275-0698-4614-ce3a-2e43a89a2a06"
      },
      "execution_count": 17,
      "outputs": [
        {
          "output_type": "execute_result",
          "data": {
            "text/plain": [
              "38"
            ]
          },
          "metadata": {},
          "execution_count": 17
        }
      ]
    },
    {
      "cell_type": "code",
      "source": [
        "# Longest story length (needed for keras padding sequences)\n",
        "all_story_lengths = [len(data[0]) for data in all_data]\n",
        "max_story_len = max(all_story_lengths)\n",
        "max_story_len"
      ],
      "metadata": {
        "colab": {
          "base_uri": "https://localhost:8080/"
        },
        "id": "AWQ6V1kd9p5P",
        "outputId": "cbbdd5de-ca44-4480-939a-e28082556c44"
      },
      "execution_count": 18,
      "outputs": [
        {
          "output_type": "execute_result",
          "data": {
            "text/plain": [
              "156"
            ]
          },
          "metadata": {},
          "execution_count": 18
        }
      ]
    },
    {
      "cell_type": "code",
      "source": [
        "# Longest question length (needed for keras padding sequences)\n",
        "all_question_lengths = [len(data[1]) for data in all_data]\n",
        "max_question_len = max(all_question_lengths)\n",
        "max_question_len"
      ],
      "metadata": {
        "colab": {
          "base_uri": "https://localhost:8080/"
        },
        "id": "5effuWU9-Gx7",
        "outputId": "bd783391-4926-454d-ae77-d6ade63dbb53"
      },
      "execution_count": 19,
      "outputs": [
        {
          "output_type": "execute_result",
          "data": {
            "text/plain": [
              "6"
            ]
          },
          "metadata": {},
          "execution_count": 19
        }
      ]
    },
    {
      "cell_type": "markdown",
      "source": [
        "Vectorizing the data."
      ],
      "metadata": {
        "id": "tzKjEVV1Etnh"
      }
    },
    {
      "cell_type": "code",
      "source": [
        "from keras.preprocessing.sequence import pad_sequences\n",
        "from keras.preprocessing.text import Tokenizer\n",
        "\n",
        "# Creating an integer encoding for the sequences of words\n",
        "tokenizer = Tokenizer(filters = [])\n",
        "tokenizer.fit_on_texts(vocab)\n",
        "\n",
        "# Words get lowercased automatically in this manner too\n",
        "tokenizer.word_index "
      ],
      "metadata": {
        "colab": {
          "base_uri": "https://localhost:8080/"
        },
        "id": "IJVL9mf1-oxA",
        "outputId": "8ec8ee6e-3d9d-406a-ab25-4ca2e8cbf675"
      },
      "execution_count": 20,
      "outputs": [
        {
          "output_type": "execute_result",
          "data": {
            "text/plain": [
              "{'.': 34,\n",
              " '?': 6,\n",
              " 'apple': 29,\n",
              " 'back': 28,\n",
              " 'bathroom': 2,\n",
              " 'bedroom': 1,\n",
              " 'daniel': 31,\n",
              " 'discarded': 8,\n",
              " 'down': 13,\n",
              " 'dropped': 15,\n",
              " 'football': 33,\n",
              " 'garden': 32,\n",
              " 'got': 5,\n",
              " 'grabbed': 21,\n",
              " 'hallway': 7,\n",
              " 'in': 9,\n",
              " 'is': 3,\n",
              " 'john': 20,\n",
              " 'journeyed': 35,\n",
              " 'kitchen': 36,\n",
              " 'left': 17,\n",
              " 'mary': 23,\n",
              " 'milk': 27,\n",
              " 'moved': 30,\n",
              " 'no': 26,\n",
              " 'office': 25,\n",
              " 'picked': 10,\n",
              " 'put': 22,\n",
              " 'sandra': 37,\n",
              " 'the': 19,\n",
              " 'there': 16,\n",
              " 'to': 12,\n",
              " 'took': 14,\n",
              " 'travelled': 11,\n",
              " 'up': 4,\n",
              " 'went': 18,\n",
              " 'yes': 24}"
            ]
          },
          "metadata": {},
          "execution_count": 20
        }
      ]
    },
    {
      "cell_type": "code",
      "source": [
        "# Separating the stories, questions and answers from each other and storing them into lists\n",
        "train_story_text = []\n",
        "train_question_text = []\n",
        "train_answers = []\n",
        "\n",
        "for story, question, answer in train_data:\n",
        "  train_story_text.append(story)\n",
        "  train_question_text.append(question)\n",
        "  train_answers.append(answer)\n"
      ],
      "metadata": {
        "id": "ZlxTAmXFFiGV"
      },
      "execution_count": 21,
      "outputs": []
    },
    {
      "cell_type": "code",
      "source": [
        "train_story_text[0:2]"
      ],
      "metadata": {
        "colab": {
          "base_uri": "https://localhost:8080/"
        },
        "id": "c8l3L3fiGCVw",
        "outputId": "46b582a2-ca61-46b6-ee9a-c353640bb5f3"
      },
      "execution_count": 22,
      "outputs": [
        {
          "output_type": "execute_result",
          "data": {
            "text/plain": [
              "[['Mary',\n",
              "  'moved',\n",
              "  'to',\n",
              "  'the',\n",
              "  'bathroom',\n",
              "  '.',\n",
              "  'Sandra',\n",
              "  'journeyed',\n",
              "  'to',\n",
              "  'the',\n",
              "  'bedroom',\n",
              "  '.'],\n",
              " ['Mary',\n",
              "  'moved',\n",
              "  'to',\n",
              "  'the',\n",
              "  'bathroom',\n",
              "  '.',\n",
              "  'Sandra',\n",
              "  'journeyed',\n",
              "  'to',\n",
              "  'the',\n",
              "  'bedroom',\n",
              "  '.',\n",
              "  'Mary',\n",
              "  'went',\n",
              "  'back',\n",
              "  'to',\n",
              "  'the',\n",
              "  'bedroom',\n",
              "  '.',\n",
              "  'Daniel',\n",
              "  'went',\n",
              "  'back',\n",
              "  'to',\n",
              "  'the',\n",
              "  'hallway',\n",
              "  '.']]"
            ]
          },
          "metadata": {},
          "execution_count": 22
        }
      ]
    },
    {
      "cell_type": "code",
      "source": [
        "# Creating the sequences from the story texts using the tokenizer\n",
        "train_story_seq = tokenizer.texts_to_sequences(train_story_text)\n",
        "len(train_story_seq)"
      ],
      "metadata": {
        "colab": {
          "base_uri": "https://localhost:8080/"
        },
        "id": "tcyhiEqJGEOS",
        "outputId": "800a54c0-f848-4e76-a14f-50e7cfb1d96e"
      },
      "execution_count": 23,
      "outputs": [
        {
          "output_type": "execute_result",
          "data": {
            "text/plain": [
              "10000"
            ]
          },
          "metadata": {},
          "execution_count": 23
        }
      ]
    },
    {
      "cell_type": "code",
      "source": [
        "train_story_seq[0]"
      ],
      "metadata": {
        "colab": {
          "base_uri": "https://localhost:8080/"
        },
        "id": "NIulLRlwGh5f",
        "outputId": "50a2180f-87ed-415a-a95e-afd432ad350a"
      },
      "execution_count": 24,
      "outputs": [
        {
          "output_type": "execute_result",
          "data": {
            "text/plain": [
              "[23, 30, 12, 19, 2, 34, 37, 35, 12, 19, 1, 34]"
            ]
          },
          "metadata": {},
          "execution_count": 24
        }
      ]
    },
    {
      "cell_type": "code",
      "source": [
        "# Function to vectorize the stories, questions and answers into padded sequences\n",
        "\n",
        "def vectorize_stories(data, word_index = tokenizer.word_index, max_story_len = max_story_len,\n",
        "                      max_question_len = max_question_len):\n",
        "  \n",
        "# max_story_len takes care of inputting constant length to the RNN by either cutting short the \n",
        "# sentence if it is too long, or adding zeroes if it is too short\n",
        "# Similarly for the question lengths\n",
        "\n",
        "  X = [] # List for storing sequence lists of each story\n",
        "  Xq = [] # List for storing sequence lists of each question\n",
        "  Y = [] # List for storing sequences lists of each answer\n",
        "\n",
        "  for story, question, answer in data:\n",
        "    x = [word_index[word.lower()] for word in story] # For each word in the current story\n",
        "    xq = [word_index[word.lower()] for word in question] # For each word in the current question\n",
        "    \n",
        "    # Since our answers are confined to 'Yes' or 'No', we can manually do the word index process for it\n",
        "    # We add 1 for the keras padding sequence\n",
        "    y = np.zeros(len(word_index)+1)\n",
        "    y[word_index[answer]] = 1\n",
        "\n",
        "    X.append(x)\n",
        "    Xq.append(xq)\n",
        "    Y.append(y)\n",
        "\n",
        "  # Pad the sequences obtained from the for loop\n",
        "  return (pad_sequences(X, maxlen = max_story_len), pad_sequences(Xq, maxlen = max_question_len), np.array(Y))"
      ],
      "metadata": {
        "id": "bFlD7EgvGpMc"
      },
      "execution_count": 25,
      "outputs": []
    },
    {
      "cell_type": "code",
      "source": [
        "inputs_train, queries_train, answers_train = vectorize_stories(train_data)"
      ],
      "metadata": {
        "id": "j642VLNxZcCR"
      },
      "execution_count": 26,
      "outputs": []
    },
    {
      "cell_type": "code",
      "source": [
        "inputs_test, queries_test, answers_test = vectorize_stories(test_data)"
      ],
      "metadata": {
        "id": "JT8b0WCycEuF"
      },
      "execution_count": 27,
      "outputs": []
    },
    {
      "cell_type": "code",
      "source": [
        "inputs_test[:2]"
      ],
      "metadata": {
        "colab": {
          "base_uri": "https://localhost:8080/"
        },
        "id": "SWscSAevcRxd",
        "outputId": "15c1bf03-b469-4fe2-b7a4-bee012a39697"
      },
      "execution_count": 28,
      "outputs": [
        {
          "output_type": "execute_result",
          "data": {
            "text/plain": [
              "array([[ 0,  0,  0,  0,  0,  0,  0,  0,  0,  0,  0,  0,  0,  0,  0,  0,\n",
              "         0,  0,  0,  0,  0,  0,  0,  0,  0,  0,  0,  0,  0,  0,  0,  0,\n",
              "         0,  0,  0,  0,  0,  0,  0,  0,  0,  0,  0,  0,  0,  0,  0,  0,\n",
              "         0,  0,  0,  0,  0,  0,  0,  0,  0,  0,  0,  0,  0,  0,  0,  0,\n",
              "         0,  0,  0,  0,  0,  0,  0,  0,  0,  0,  0,  0,  0,  0,  0,  0,\n",
              "         0,  0,  0,  0,  0,  0,  0,  0,  0,  0,  0,  0,  0,  0,  0,  0,\n",
              "         0,  0,  0,  0,  0,  0,  0,  0,  0,  0,  0,  0,  0,  0,  0,  0,\n",
              "         0,  0,  0,  0,  0,  0,  0,  0,  0,  0,  0,  0,  0,  0,  0,  0,\n",
              "         0,  0,  0,  0,  0,  0,  0,  0,  0,  0,  0,  0,  0,  0,  0,  0,\n",
              "        23,  5, 19, 27, 16, 34, 20, 30, 12, 19,  1, 34],\n",
              "       [ 0,  0,  0,  0,  0,  0,  0,  0,  0,  0,  0,  0,  0,  0,  0,  0,\n",
              "         0,  0,  0,  0,  0,  0,  0,  0,  0,  0,  0,  0,  0,  0,  0,  0,\n",
              "         0,  0,  0,  0,  0,  0,  0,  0,  0,  0,  0,  0,  0,  0,  0,  0,\n",
              "         0,  0,  0,  0,  0,  0,  0,  0,  0,  0,  0,  0,  0,  0,  0,  0,\n",
              "         0,  0,  0,  0,  0,  0,  0,  0,  0,  0,  0,  0,  0,  0,  0,  0,\n",
              "         0,  0,  0,  0,  0,  0,  0,  0,  0,  0,  0,  0,  0,  0,  0,  0,\n",
              "         0,  0,  0,  0,  0,  0,  0,  0,  0,  0,  0,  0,  0,  0,  0,  0,\n",
              "         0,  0,  0,  0,  0,  0,  0,  0,  0,  0,  0,  0,  0,  0,  0,  0,\n",
              "         0,  0,  0,  0,  0, 23,  5, 19, 27, 16, 34, 20, 30, 12, 19,  1,\n",
              "        34, 23,  8, 19, 27, 34, 20, 18, 12, 19, 32, 34]], dtype=int32)"
            ]
          },
          "metadata": {},
          "execution_count": 28
        }
      ]
    },
    {
      "cell_type": "code",
      "source": [
        "answers_test"
      ],
      "metadata": {
        "colab": {
          "base_uri": "https://localhost:8080/"
        },
        "id": "x_vpd--pc6Bl",
        "outputId": "79d2018e-8af2-4bfa-8158-41fba0de3213"
      },
      "execution_count": 29,
      "outputs": [
        {
          "output_type": "execute_result",
          "data": {
            "text/plain": [
              "array([[0., 0., 0., ..., 0., 0., 0.],\n",
              "       [0., 0., 0., ..., 0., 0., 0.],\n",
              "       [0., 0., 0., ..., 0., 0., 0.],\n",
              "       ...,\n",
              "       [0., 0., 0., ..., 0., 0., 0.],\n",
              "       [0., 0., 0., ..., 0., 0., 0.],\n",
              "       [0., 0., 0., ..., 0., 0., 0.]])"
            ]
          },
          "metadata": {},
          "execution_count": 29
        }
      ]
    },
    {
      "cell_type": "code",
      "source": [
        "tokenizer.word_index['yes']"
      ],
      "metadata": {
        "colab": {
          "base_uri": "https://localhost:8080/"
        },
        "id": "lY2XPc0scq0y",
        "outputId": "5f3b51f2-e600-45a1-b3e8-69a220ff1c10"
      },
      "execution_count": 30,
      "outputs": [
        {
          "output_type": "execute_result",
          "data": {
            "text/plain": [
              "24"
            ]
          },
          "metadata": {},
          "execution_count": 30
        }
      ]
    },
    {
      "cell_type": "code",
      "source": [
        "tokenizer.word_index['no']"
      ],
      "metadata": {
        "colab": {
          "base_uri": "https://localhost:8080/"
        },
        "id": "h0KXU1itczZx",
        "outputId": "4198654a-1b4f-4293-d0e4-5e8130a1b7ce"
      },
      "execution_count": 31,
      "outputs": [
        {
          "output_type": "execute_result",
          "data": {
            "text/plain": [
              "26"
            ]
          },
          "metadata": {},
          "execution_count": 31
        }
      ]
    },
    {
      "cell_type": "code",
      "source": [
        "sum(answers_test)"
      ],
      "metadata": {
        "colab": {
          "base_uri": "https://localhost:8080/"
        },
        "id": "lMqRcVdJc1zX",
        "outputId": "b31623a7-1b1a-47c4-aa08-7fd6543071a1"
      },
      "execution_count": 32,
      "outputs": [
        {
          "output_type": "execute_result",
          "data": {
            "text/plain": [
              "array([  0.,   0.,   0.,   0.,   0.,   0.,   0.,   0.,   0.,   0.,   0.,\n",
              "         0.,   0.,   0.,   0.,   0.,   0.,   0.,   0.,   0.,   0.,   0.,\n",
              "         0.,   0., 497.,   0., 503.,   0.,   0.,   0.,   0.,   0.,   0.,\n",
              "         0.,   0.,   0.,   0.,   0.])"
            ]
          },
          "metadata": {},
          "execution_count": 32
        }
      ]
    },
    {
      "cell_type": "markdown",
      "source": [
        "Building the Neural Network."
      ],
      "metadata": {
        "id": "Qi8ewEQrgpXh"
      }
    },
    {
      "cell_type": "code",
      "source": [
        "# Network uses\n",
        "# Input Encoder M\n",
        "# Input Encoder C\n",
        "# Question Encoder\n",
        "\n",
        "from keras.models import Sequential, Model\n",
        "from keras.layers.embeddings import Embedding\n",
        "from keras.layers import Input, Activation, Dense, Permute, Dropout, add, dot, concatenate, LSTM\n",
        "\n",
        "# Placeholder for our story. shape = (max_story_len, batch_size)\n",
        "# Similarly for our questions\n",
        "input_sequence = Input((max_story_len,))\n",
        "question = Input((max_question_len,))"
      ],
      "metadata": {
        "id": "QEOzathGc3ql"
      },
      "execution_count": 33,
      "outputs": []
    },
    {
      "cell_type": "code",
      "source": [
        "# Previously declared as vocab_len\n",
        "vocab_size = len(vocab) + 1"
      ],
      "metadata": {
        "id": "HMCVsuTZhOxo"
      },
      "execution_count": 34,
      "outputs": []
    },
    {
      "cell_type": "code",
      "source": [
        "# Input encoder M\n",
        "input_encoder_m = Sequential()\n",
        "input_encoder_m.add(Embedding(input_dim = vocab_size, output_dim= 64))\n",
        "input_encoder_m.add(Dropout(0.3))\n",
        "\n",
        "# This will give us (samples, story_maxLen, embedding_dim)"
      ],
      "metadata": {
        "id": "lggz3tMCiSAl"
      },
      "execution_count": 35,
      "outputs": []
    },
    {
      "cell_type": "code",
      "source": [
        "# Input encoder C\n",
        "input_encoder_c = Sequential()\n",
        "input_encoder_c.add(Embedding(input_dim = vocab_size, output_dim= max_question_len))\n",
        "input_encoder_c.add(Dropout(0.3))\n",
        "\n",
        "# This will give us (samples, story_maxLen, max_question_len)"
      ],
      "metadata": {
        "id": "zQ_SSHLI0mJL"
      },
      "execution_count": 36,
      "outputs": []
    },
    {
      "cell_type": "code",
      "source": [
        "# Question encoder\n",
        "question_encoder = Sequential()\n",
        "question_encoder.add(Embedding(input_dim = vocab_size, output_dim = 64, input_length = max_question_len))\n",
        "question_encoder.add(Dropout(0.3))\n",
        "\n",
        "# This will give us (samples, query_maxLen, embedding_dim)"
      ],
      "metadata": {
        "id": "54CpUM1j00QL"
      },
      "execution_count": 37,
      "outputs": []
    },
    {
      "cell_type": "code",
      "source": [
        "# Now the inputs are passed to all 3 encoders which were defined in the placeholder\n",
        "# Encoded = Encoder(Input)\n",
        "input_encoded_m = input_encoder_m(input_sequence)\n",
        "input_encoded_c = input_encoder_c(input_sequence)\n",
        "question_encoded = question_encoder(question)"
      ],
      "metadata": {
        "id": "DM3NFNUs1SkQ"
      },
      "execution_count": 38,
      "outputs": []
    },
    {
      "cell_type": "code",
      "source": [
        "# Use of dot product to compute the match between the input vector sequence and the query\n",
        "match = dot([input_encoded_m, question_encoded], axes = (2,2))\n",
        "match = Activation('softmax')(match)"
      ],
      "metadata": {
        "id": "2gzTToo211xq"
      },
      "execution_count": 39,
      "outputs": []
    },
    {
      "cell_type": "code",
      "source": [
        "# Adding the matrix with the second input vector sequence\n",
        "response = add([match, input_encoded_c]) # (samples, story_maxlen, query_maxlen)\n",
        "response = Permute((2, 1))(response)  # (samples, query_maxlen, story_maxlen)"
      ],
      "metadata": {
        "id": "qxuQ8m3B7Qvb"
      },
      "execution_count": 40,
      "outputs": []
    },
    {
      "cell_type": "code",
      "source": [
        "# Concatenating the match matrix with the question vector sequence\n",
        "answer = concatenate([response, question_encoded])\n",
        "answer"
      ],
      "metadata": {
        "colab": {
          "base_uri": "https://localhost:8080/"
        },
        "id": "1mSDSKo9720f",
        "outputId": "1ae310aa-514b-4101-b4f3-f4adcf35b97f"
      },
      "execution_count": 41,
      "outputs": [
        {
          "output_type": "execute_result",
          "data": {
            "text/plain": [
              "<KerasTensor: shape=(None, 6, 220) dtype=float32 (created by layer 'concatenate')>"
            ]
          },
          "metadata": {},
          "execution_count": 41
        }
      ]
    },
    {
      "cell_type": "code",
      "source": [
        "# Reducing our answer tensor with an RNN\n",
        "answer = LSTM(32)(answer)"
      ],
      "metadata": {
        "id": "OPXAHpyW8RDh"
      },
      "execution_count": 42,
      "outputs": []
    },
    {
      "cell_type": "code",
      "source": [
        "answer = Dropout(0.5)(answer)\n",
        "answer = Dense(vocab_size)(answer) # (samples, vocab_size)\n",
        "# This will give us an answer of size vocab_size with the only possibilities being 'yes' or 'no' as answers"
      ],
      "metadata": {
        "id": "LyGe70_v-Zzc"
      },
      "execution_count": 43,
      "outputs": []
    },
    {
      "cell_type": "code",
      "source": [
        "# Turning the probabilities we get for yes/no as 0/1\n",
        "answer = Activation('softmax')(answer)"
      ],
      "metadata": {
        "id": "iIdikK-O_aEg"
      },
      "execution_count": 44,
      "outputs": []
    },
    {
      "cell_type": "code",
      "source": [
        "model = Model([input_sequence, question], answer)"
      ],
      "metadata": {
        "id": "F-4WCncB_bpn"
      },
      "execution_count": 45,
      "outputs": []
    },
    {
      "cell_type": "code",
      "source": [
        "# Compiling the model. We use categorical cross entropy even though we are looking only for yes/no answers as the output will involve the full vocabulary, and\n",
        "# so binary cross entropy is not used\n",
        "model.compile(optimizer = 'rmsprop', loss = 'categorical_crossentropy', metrics = ['accuracy'])"
      ],
      "metadata": {
        "id": "LbnuQkbV_sUT"
      },
      "execution_count": 46,
      "outputs": []
    },
    {
      "cell_type": "code",
      "source": [
        "model.summary()"
      ],
      "metadata": {
        "colab": {
          "base_uri": "https://localhost:8080/"
        },
        "id": "XaPbHXgtAWH-",
        "outputId": "86852950-f240-44bf-96f7-e36aac934da2"
      },
      "execution_count": 47,
      "outputs": [
        {
          "output_type": "stream",
          "name": "stdout",
          "text": [
            "Model: \"model\"\n",
            "__________________________________________________________________________________________________\n",
            " Layer (type)                   Output Shape         Param #     Connected to                     \n",
            "==================================================================================================\n",
            " input_1 (InputLayer)           [(None, 156)]        0           []                               \n",
            "                                                                                                  \n",
            " input_2 (InputLayer)           [(None, 6)]          0           []                               \n",
            "                                                                                                  \n",
            " sequential (Sequential)        (None, None, 64)     2432        ['input_1[0][0]']                \n",
            "                                                                                                  \n",
            " sequential_2 (Sequential)      (None, 6, 64)        2432        ['input_2[0][0]']                \n",
            "                                                                                                  \n",
            " dot (Dot)                      (None, 156, 6)       0           ['sequential[0][0]',             \n",
            "                                                                  'sequential_2[0][0]']           \n",
            "                                                                                                  \n",
            " activation (Activation)        (None, 156, 6)       0           ['dot[0][0]']                    \n",
            "                                                                                                  \n",
            " sequential_1 (Sequential)      (None, None, 6)      228         ['input_1[0][0]']                \n",
            "                                                                                                  \n",
            " add (Add)                      (None, 156, 6)       0           ['activation[0][0]',             \n",
            "                                                                  'sequential_1[0][0]']           \n",
            "                                                                                                  \n",
            " permute (Permute)              (None, 6, 156)       0           ['add[0][0]']                    \n",
            "                                                                                                  \n",
            " concatenate (Concatenate)      (None, 6, 220)       0           ['permute[0][0]',                \n",
            "                                                                  'sequential_2[0][0]']           \n",
            "                                                                                                  \n",
            " lstm (LSTM)                    (None, 32)           32384       ['concatenate[0][0]']            \n",
            "                                                                                                  \n",
            " dropout_3 (Dropout)            (None, 32)           0           ['lstm[0][0]']                   \n",
            "                                                                                                  \n",
            " dense (Dense)                  (None, 38)           1254        ['dropout_3[0][0]']              \n",
            "                                                                                                  \n",
            " activation_1 (Activation)      (None, 38)           0           ['dense[0][0]']                  \n",
            "                                                                                                  \n",
            "==================================================================================================\n",
            "Total params: 38,730\n",
            "Trainable params: 38,730\n",
            "Non-trainable params: 0\n",
            "__________________________________________________________________________________________________\n"
          ]
        }
      ]
    },
    {
      "cell_type": "code",
      "source": [
        "# 40 epochs seem optimal when tuning the parameters\n",
        "history = model.fit([inputs_train, queries_train], answers_train,batch_size=32,epochs=40,validation_data=([inputs_test, queries_test], answers_test))"
      ],
      "metadata": {
        "id": "rmR63tRIAXDU",
        "colab": {
          "base_uri": "https://localhost:8080/"
        },
        "outputId": "84a47f29-aa7c-4962-dbf5-8dc8cd5e864f"
      },
      "execution_count": 48,
      "outputs": [
        {
          "output_type": "stream",
          "name": "stdout",
          "text": [
            "Epoch 1/40\n",
            "313/313 [==============================] - 8s 8ms/step - loss: 0.9065 - accuracy: 0.4911 - val_loss: 0.6981 - val_accuracy: 0.5030\n",
            "Epoch 2/40\n",
            "313/313 [==============================] - 2s 7ms/step - loss: 0.7047 - accuracy: 0.4969 - val_loss: 0.6955 - val_accuracy: 0.5030\n",
            "Epoch 3/40\n",
            "313/313 [==============================] - 2s 7ms/step - loss: 0.6968 - accuracy: 0.4914 - val_loss: 0.6934 - val_accuracy: 0.5030\n",
            "Epoch 4/40\n",
            "313/313 [==============================] - 2s 7ms/step - loss: 0.6947 - accuracy: 0.4985 - val_loss: 0.6932 - val_accuracy: 0.5030\n",
            "Epoch 5/40\n",
            "313/313 [==============================] - 2s 7ms/step - loss: 0.6947 - accuracy: 0.5018 - val_loss: 0.6931 - val_accuracy: 0.5030\n",
            "Epoch 6/40\n",
            "313/313 [==============================] - 2s 7ms/step - loss: 0.6949 - accuracy: 0.4958 - val_loss: 0.6931 - val_accuracy: 0.5030\n",
            "Epoch 7/40\n",
            "313/313 [==============================] - 2s 7ms/step - loss: 0.6945 - accuracy: 0.4972 - val_loss: 0.6933 - val_accuracy: 0.4970\n",
            "Epoch 8/40\n",
            "313/313 [==============================] - 2s 7ms/step - loss: 0.6941 - accuracy: 0.5012 - val_loss: 0.6936 - val_accuracy: 0.4970\n",
            "Epoch 9/40\n",
            "313/313 [==============================] - 2s 7ms/step - loss: 0.6944 - accuracy: 0.4999 - val_loss: 0.6937 - val_accuracy: 0.5030\n",
            "Epoch 10/40\n",
            "313/313 [==============================] - 2s 7ms/step - loss: 0.6941 - accuracy: 0.5044 - val_loss: 0.6945 - val_accuracy: 0.5070\n",
            "Epoch 11/40\n",
            "313/313 [==============================] - 2s 7ms/step - loss: 0.6925 - accuracy: 0.5138 - val_loss: 0.6943 - val_accuracy: 0.4800\n",
            "Epoch 12/40\n",
            "313/313 [==============================] - 2s 7ms/step - loss: 0.6866 - accuracy: 0.5306 - val_loss: 0.6852 - val_accuracy: 0.4970\n",
            "Epoch 13/40\n",
            "313/313 [==============================] - 2s 7ms/step - loss: 0.6647 - accuracy: 0.5887 - val_loss: 0.6345 - val_accuracy: 0.6570\n",
            "Epoch 14/40\n",
            "313/313 [==============================] - 2s 7ms/step - loss: 0.6251 - accuracy: 0.6553 - val_loss: 0.5754 - val_accuracy: 0.7110\n",
            "Epoch 15/40\n",
            "313/313 [==============================] - 2s 7ms/step - loss: 0.5519 - accuracy: 0.7270 - val_loss: 0.4832 - val_accuracy: 0.7800\n",
            "Epoch 16/40\n",
            "313/313 [==============================] - 2s 7ms/step - loss: 0.4836 - accuracy: 0.7828 - val_loss: 0.4477 - val_accuracy: 0.8120\n",
            "Epoch 17/40\n",
            "313/313 [==============================] - 2s 7ms/step - loss: 0.4494 - accuracy: 0.8027 - val_loss: 0.4396 - val_accuracy: 0.8080\n",
            "Epoch 18/40\n",
            "313/313 [==============================] - 2s 7ms/step - loss: 0.4287 - accuracy: 0.8192 - val_loss: 0.4148 - val_accuracy: 0.8180\n",
            "Epoch 19/40\n",
            "313/313 [==============================] - 2s 7ms/step - loss: 0.4120 - accuracy: 0.8287 - val_loss: 0.4043 - val_accuracy: 0.8280\n",
            "Epoch 20/40\n",
            "313/313 [==============================] - 2s 7ms/step - loss: 0.3897 - accuracy: 0.8396 - val_loss: 0.4101 - val_accuracy: 0.8240\n",
            "Epoch 21/40\n",
            "313/313 [==============================] - 2s 7ms/step - loss: 0.3799 - accuracy: 0.8425 - val_loss: 0.3981 - val_accuracy: 0.8320\n",
            "Epoch 22/40\n",
            "313/313 [==============================] - 2s 7ms/step - loss: 0.3660 - accuracy: 0.8529 - val_loss: 0.3960 - val_accuracy: 0.8260\n",
            "Epoch 23/40\n",
            "313/313 [==============================] - 2s 7ms/step - loss: 0.3642 - accuracy: 0.8492 - val_loss: 0.3913 - val_accuracy: 0.8300\n",
            "Epoch 24/40\n",
            "313/313 [==============================] - 2s 7ms/step - loss: 0.3535 - accuracy: 0.8552 - val_loss: 0.3782 - val_accuracy: 0.8410\n",
            "Epoch 25/40\n",
            "313/313 [==============================] - 2s 7ms/step - loss: 0.3506 - accuracy: 0.8549 - val_loss: 0.3731 - val_accuracy: 0.8400\n",
            "Epoch 26/40\n",
            "313/313 [==============================] - 2s 7ms/step - loss: 0.3405 - accuracy: 0.8557 - val_loss: 0.3614 - val_accuracy: 0.8370\n",
            "Epoch 27/40\n",
            "313/313 [==============================] - 2s 7ms/step - loss: 0.3320 - accuracy: 0.8610 - val_loss: 0.3616 - val_accuracy: 0.8360\n",
            "Epoch 28/40\n",
            "313/313 [==============================] - 2s 7ms/step - loss: 0.3291 - accuracy: 0.8608 - val_loss: 0.3654 - val_accuracy: 0.8280\n",
            "Epoch 29/40\n",
            "313/313 [==============================] - 2s 7ms/step - loss: 0.3272 - accuracy: 0.8627 - val_loss: 0.3565 - val_accuracy: 0.8370\n",
            "Epoch 30/40\n",
            "313/313 [==============================] - 2s 7ms/step - loss: 0.3175 - accuracy: 0.8632 - val_loss: 0.3680 - val_accuracy: 0.8380\n",
            "Epoch 31/40\n",
            "313/313 [==============================] - 2s 7ms/step - loss: 0.3175 - accuracy: 0.8646 - val_loss: 0.3560 - val_accuracy: 0.8380\n",
            "Epoch 32/40\n",
            "313/313 [==============================] - 2s 7ms/step - loss: 0.3126 - accuracy: 0.8688 - val_loss: 0.3901 - val_accuracy: 0.8270\n",
            "Epoch 33/40\n",
            "313/313 [==============================] - 2s 7ms/step - loss: 0.3151 - accuracy: 0.8641 - val_loss: 0.3624 - val_accuracy: 0.8330\n",
            "Epoch 34/40\n",
            "313/313 [==============================] - 2s 7ms/step - loss: 0.3070 - accuracy: 0.8683 - val_loss: 0.3730 - val_accuracy: 0.8370\n",
            "Epoch 35/40\n",
            "313/313 [==============================] - 2s 7ms/step - loss: 0.3088 - accuracy: 0.8662 - val_loss: 0.3618 - val_accuracy: 0.8320\n",
            "Epoch 36/40\n",
            "313/313 [==============================] - 2s 7ms/step - loss: 0.3067 - accuracy: 0.8684 - val_loss: 0.3660 - val_accuracy: 0.8390\n",
            "Epoch 37/40\n",
            "313/313 [==============================] - 2s 7ms/step - loss: 0.3017 - accuracy: 0.8710 - val_loss: 0.3590 - val_accuracy: 0.8360\n",
            "Epoch 38/40\n",
            "313/313 [==============================] - 2s 7ms/step - loss: 0.2955 - accuracy: 0.8709 - val_loss: 0.3699 - val_accuracy: 0.8340\n",
            "Epoch 39/40\n",
            "313/313 [==============================] - 2s 7ms/step - loss: 0.2981 - accuracy: 0.8675 - val_loss: 0.3506 - val_accuracy: 0.8390\n",
            "Epoch 40/40\n",
            "313/313 [==============================] - 2s 7ms/step - loss: 0.2981 - accuracy: 0.8710 - val_loss: 0.3554 - val_accuracy: 0.8330\n"
          ]
        }
      ]
    },
    {
      "cell_type": "code",
      "source": [
        "# Evaluating the model\n",
        "import matplotlib.pyplot as plt\n",
        "%matplotlib inline\n",
        "print(history.history.keys())\n",
        "# summarize history for accuracy\n",
        "plt.plot(history.history['accuracy'])\n",
        "plt.plot(history.history['val_accuracy'])\n",
        "plt.title('model accuracy')\n",
        "plt.ylabel('accuracy')\n",
        "plt.xlabel('epoch')\n",
        "plt.legend(['train', 'test'], loc='upper left')\n",
        "plt.show()"
      ],
      "metadata": {
        "id": "J9aSjcbzy2fv",
        "colab": {
          "base_uri": "https://localhost:8080/",
          "height": 313
        },
        "outputId": "e6c3d7cb-1daa-4e32-afe1-c169bb4666b6"
      },
      "execution_count": 49,
      "outputs": [
        {
          "output_type": "stream",
          "name": "stdout",
          "text": [
            "dict_keys(['loss', 'accuracy', 'val_loss', 'val_accuracy'])\n"
          ]
        },
        {
          "output_type": "display_data",
          "data": {
            "image/png": "[encoded data removed]",
            "text/plain": [
              "<Figure size 432x288 with 1 Axes>"
            ]
          },
          "metadata": {
            "needs_background": "light"
          }
        }
      ]
    },
    {
      "cell_type": "code",
      "source": [
        "# Saving the model\n",
        "filename = 'chatbot_40_epochs.h5'\n",
        "model.save(filename)"
      ],
      "metadata": {
        "id": "BRx6bBVRCk5K",
        "colab": {
          "base_uri": "https://localhost:8080/"
        },
        "outputId": "99ae8938-26dc-4587-8efc-621925342498"
      },
      "execution_count": 50,
      "outputs": [
        {
          "output_type": "stream",
          "name": "stderr",
          "text": [
            "/usr/local/lib/python3.7/dist-packages/keras/engine/functional.py:1410: CustomMaskWarning: Custom mask layers require a config and must override get_config. When loading, the custom mask layer must be passed to the custom_objects argument.\n",
            "  layer_config = serialize_layer_fn(layer)\n"
          ]
        }
      ]
    },
    {
      "cell_type": "code",
      "source": [
        "# Predicting on the inputs_test and queries_test\n",
        "pred_results = model.predict(([inputs_test, queries_test]))"
      ],
      "metadata": {
        "id": "wEo_SIbVzG4x"
      },
      "execution_count": 51,
      "outputs": []
    },
    {
      "cell_type": "code",
      "source": [
        "test_data[0][0]"
      ],
      "metadata": {
        "id": "gsGBZANt0kpC",
        "colab": {
          "base_uri": "https://localhost:8080/"
        },
        "outputId": "17395a44-e0df-4bab-dfdc-e9cbfbc5d4c8"
      },
      "execution_count": 52,
      "outputs": [
        {
          "output_type": "execute_result",
          "data": {
            "text/plain": [
              "['Mary',\n",
              " 'got',\n",
              " 'the',\n",
              " 'milk',\n",
              " 'there',\n",
              " '.',\n",
              " 'John',\n",
              " 'moved',\n",
              " 'to',\n",
              " 'the',\n",
              " 'bedroom',\n",
              " '.']"
            ]
          },
          "metadata": {},
          "execution_count": 52
        }
      ]
    },
    {
      "cell_type": "code",
      "source": [
        "test_data[0][1]"
      ],
      "metadata": {
        "id": "2pGc6cNR1bMk",
        "colab": {
          "base_uri": "https://localhost:8080/"
        },
        "outputId": "a5447c51-09ef-43d1-938a-8b7ad34ae5f6"
      },
      "execution_count": 53,
      "outputs": [
        {
          "output_type": "execute_result",
          "data": {
            "text/plain": [
              "['Is', 'John', 'in', 'the', 'kitchen', '?']"
            ]
          },
          "metadata": {},
          "execution_count": 53
        }
      ]
    },
    {
      "cell_type": "code",
      "source": [
        "test_data[0][2]"
      ],
      "metadata": {
        "id": "z-EF4cWk1hg5",
        "colab": {
          "base_uri": "https://localhost:8080/",
          "height": 36
        },
        "outputId": "4f9d8989-0d1e-454b-842f-551877a2e509"
      },
      "execution_count": 54,
      "outputs": [
        {
          "output_type": "execute_result",
          "data": {
            "application/vnd.google.colaboratory.intrinsic+json": {
              "type": "string"
            },
            "text/plain": [
              "'no'"
            ]
          },
          "metadata": {},
          "execution_count": 54
        }
      ]
    },
    {
      "cell_type": "code",
      "source": [
        "pred_results"
      ],
      "metadata": {
        "id": "igiAtcqq0mlP",
        "colab": {
          "base_uri": "https://localhost:8080/"
        },
        "outputId": "d3e842c9-486f-4b0b-aa0d-04a0e59083de"
      },
      "execution_count": 55,
      "outputs": [
        {
          "output_type": "execute_result",
          "data": {
            "text/plain": [
              "array([[1.5815885e-12, 1.2487648e-12, 1.4278217e-12, ..., 1.2726904e-12,\n",
              "        1.1052688e-12, 1.6184833e-12],\n",
              "       [2.3497350e-13, 1.8198050e-13, 2.2243831e-13, ..., 1.9122422e-13,\n",
              "        1.7847532e-13, 2.2426420e-13],\n",
              "       [2.4967008e-09, 2.2003155e-09, 2.1986415e-09, ..., 2.2867970e-09,\n",
              "        2.9137048e-09, 1.6879416e-09],\n",
              "       ...,\n",
              "       [1.7111230e-13, 1.2838766e-13, 1.4626185e-13, ..., 1.2744757e-13,\n",
              "        1.2841753e-13, 1.6575726e-13],\n",
              "       [2.4579205e-11, 2.0227212e-11, 2.2653665e-11, ..., 2.3121977e-11,\n",
              "        3.2162422e-11, 1.5442800e-11],\n",
              "       [4.1467604e-11, 3.6039362e-11, 4.1447835e-11, ..., 4.0461454e-11,\n",
              "        4.4473484e-11, 3.3991858e-11]], dtype=float32)"
            ]
          },
          "metadata": {},
          "execution_count": 55
        }
      ]
    },
    {
      "cell_type": "code",
      "source": [
        "# pred_results contains 1000 stories, their questions and their answers with a vocab size of 37 plus one for padding\n",
        "pred_results.shape"
      ],
      "metadata": {
        "id": "ijSHbqzL0s-4",
        "colab": {
          "base_uri": "https://localhost:8080/"
        },
        "outputId": "990fe7e9-a298-4db7-a757-55af6d60d61e"
      },
      "execution_count": 56,
      "outputs": [
        {
          "output_type": "execute_result",
          "data": {
            "text/plain": [
              "(1000, 38)"
            ]
          },
          "metadata": {},
          "execution_count": 56
        }
      ]
    },
    {
      "cell_type": "code",
      "source": [
        "# It returns the probabilities of each words as the answer for a given question. It would be liked that yes/no will have\n",
        "# higher in these cases\n",
        "pred_results[0]"
      ],
      "metadata": {
        "id": "ApthZ1m904C3",
        "colab": {
          "base_uri": "https://localhost:8080/"
        },
        "outputId": "3b145f0c-bbfc-4690-8d25-70e79c472a18"
      },
      "execution_count": 57,
      "outputs": [
        {
          "output_type": "execute_result",
          "data": {
            "text/plain": [
              "array([1.5815885e-12, 1.2487648e-12, 1.4278217e-12, 1.3074769e-12,\n",
              "       1.4604276e-12, 1.3426197e-12, 1.4300785e-12, 1.4748212e-12,\n",
              "       1.5945526e-12, 1.4111009e-12, 1.2794029e-12, 1.3653506e-12,\n",
              "       1.0307150e-12, 1.0233068e-12, 1.5810033e-12, 1.3425993e-12,\n",
              "       1.3057175e-12, 1.1073577e-12, 1.5770881e-12, 1.2650909e-12,\n",
              "       1.2973663e-12, 1.3541157e-12, 1.3847688e-12, 1.1678462e-12,\n",
              "       7.1233872e-04, 1.1145920e-12, 9.9928766e-01, 1.3976916e-12,\n",
              "       1.3769046e-12, 1.1455771e-12, 1.3119084e-12, 1.5816970e-12,\n",
              "       1.0918295e-12, 1.1341889e-12, 1.2137705e-12, 1.2726904e-12,\n",
              "       1.1052688e-12, 1.6184833e-12], dtype=float32)"
            ]
          },
          "metadata": {},
          "execution_count": 57
        }
      ]
    },
    {
      "cell_type": "code",
      "source": [
        "# Obtaining the highest probabilities\n",
        "val_max = np.argmax(pred_results[0])\n",
        "val_max"
      ],
      "metadata": {
        "id": "HQO9i3nf06mu",
        "colab": {
          "base_uri": "https://localhost:8080/"
        },
        "outputId": "d70bc7b0-9bf4-4db2-95c3-1fff7ca4c40e"
      },
      "execution_count": 58,
      "outputs": [
        {
          "output_type": "execute_result",
          "data": {
            "text/plain": [
              "26"
            ]
          },
          "metadata": {},
          "execution_count": 58
        }
      ]
    },
    {
      "cell_type": "code",
      "source": [
        "# Looking up the word from the tokenizer using the highest probability as the value\n",
        "for key, val in tokenizer.word_index.items():\n",
        "  if val == val_max:\n",
        "    k = key\n",
        "print(k)"
      ],
      "metadata": {
        "id": "JVVHrpM-1TUT",
        "colab": {
          "base_uri": "https://localhost:8080/"
        },
        "outputId": "58c03751-cc4d-44f8-c27d-f001ed1dd642"
      },
      "execution_count": 59,
      "outputs": [
        {
          "output_type": "stream",
          "name": "stdout",
          "text": [
            "no\n"
          ]
        }
      ]
    },
    {
      "cell_type": "code",
      "source": [
        "# Checking how sure the model is about its answer\n",
        "pred_results[0][val_max]"
      ],
      "metadata": {
        "id": "KWSEirxt1uUi",
        "colab": {
          "base_uri": "https://localhost:8080/"
        },
        "outputId": "d35825db-4aa8-42ca-da57-481ef1c08816"
      },
      "execution_count": 60,
      "outputs": [
        {
          "output_type": "execute_result",
          "data": {
            "text/plain": [
              "0.99928766"
            ]
          },
          "metadata": {},
          "execution_count": 60
        }
      ]
    },
    {
      "cell_type": "code",
      "source": [
        "vocab"
      ],
      "metadata": {
        "id": "HBjjrDbS2aCA",
        "colab": {
          "base_uri": "https://localhost:8080/"
        },
        "outputId": "338d9531-d8d8-4cd9-96ac-95b6d0857134"
      },
      "execution_count": 61,
      "outputs": [
        {
          "output_type": "execute_result",
          "data": {
            "text/plain": [
              "{'.',\n",
              " '?',\n",
              " 'Daniel',\n",
              " 'Is',\n",
              " 'John',\n",
              " 'Mary',\n",
              " 'Sandra',\n",
              " 'apple',\n",
              " 'back',\n",
              " 'bathroom',\n",
              " 'bedroom',\n",
              " 'discarded',\n",
              " 'down',\n",
              " 'dropped',\n",
              " 'football',\n",
              " 'garden',\n",
              " 'got',\n",
              " 'grabbed',\n",
              " 'hallway',\n",
              " 'in',\n",
              " 'journeyed',\n",
              " 'kitchen',\n",
              " 'left',\n",
              " 'milk',\n",
              " 'moved',\n",
              " 'no',\n",
              " 'office',\n",
              " 'picked',\n",
              " 'put',\n",
              " 'the',\n",
              " 'there',\n",
              " 'to',\n",
              " 'took',\n",
              " 'travelled',\n",
              " 'up',\n",
              " 'went',\n",
              " 'yes'}"
            ]
          },
          "metadata": {},
          "execution_count": 61
        }
      ]
    },
    {
      "cell_type": "code",
      "source": [
        "# Testing with custom output using vocabulary the model is trained on\n",
        "my_story = \"Daniel left the office . Sandra dropped milk in the garden .\"\n",
        "# Formatting the story into the form the train and test datasets had the stories in\n",
        "my_story.split()"
      ],
      "metadata": {
        "id": "BwXOLwx91-2g",
        "colab": {
          "base_uri": "https://localhost:8080/"
        },
        "outputId": "98891a59-7835-422b-c1e9-e008bb4a4d86"
      },
      "execution_count": 62,
      "outputs": [
        {
          "output_type": "execute_result",
          "data": {
            "text/plain": [
              "['Daniel',\n",
              " 'left',\n",
              " 'the',\n",
              " 'office',\n",
              " '.',\n",
              " 'Sandra',\n",
              " 'dropped',\n",
              " 'milk',\n",
              " 'in',\n",
              " 'the',\n",
              " 'garden',\n",
              " '.']"
            ]
          },
          "metadata": {},
          "execution_count": 62
        }
      ]
    },
    {
      "cell_type": "code",
      "source": [
        "my_question = \"Is the milk in the garden ?\"\n",
        "# Formatting into the same form as the train and test datasets\n",
        "my_question.split()"
      ],
      "metadata": {
        "id": "YJl1LDHB2wOP",
        "colab": {
          "base_uri": "https://localhost:8080/"
        },
        "outputId": "33fa7513-a96a-4074-bd8c-6f99b5cda46c"
      },
      "execution_count": 63,
      "outputs": [
        {
          "output_type": "execute_result",
          "data": {
            "text/plain": [
              "['Is', 'the', 'milk', 'in', 'the', 'garden', '?']"
            ]
          },
          "metadata": {},
          "execution_count": 63
        }
      ]
    },
    {
      "cell_type": "code",
      "source": [
        "my_test_data = [(my_story.split(), my_question.split(), 'yes')]\n",
        "my_test_data"
      ],
      "metadata": {
        "id": "sEXsR_Hv3Pb5",
        "colab": {
          "base_uri": "https://localhost:8080/"
        },
        "outputId": "3f62341b-a5aa-463f-8a94-e2ce86be494a"
      },
      "execution_count": 64,
      "outputs": [
        {
          "output_type": "execute_result",
          "data": {
            "text/plain": [
              "[(['Daniel',\n",
              "   'left',\n",
              "   'the',\n",
              "   'office',\n",
              "   '.',\n",
              "   'Sandra',\n",
              "   'dropped',\n",
              "   'milk',\n",
              "   'in',\n",
              "   'the',\n",
              "   'garden',\n",
              "   '.'],\n",
              "  ['Is', 'the', 'milk', 'in', 'the', 'garden', '?'],\n",
              "  'yes')]"
            ]
          },
          "metadata": {},
          "execution_count": 64
        }
      ]
    },
    {
      "cell_type": "code",
      "source": [
        "my_story, my_ques, my_ans = vectorize_stories(my_test_data)"
      ],
      "metadata": {
        "id": "C4ljfElU4GzW"
      },
      "execution_count": 65,
      "outputs": []
    },
    {
      "cell_type": "code",
      "source": [
        "my_story"
      ],
      "metadata": {
        "id": "cSULXfIN4huS",
        "colab": {
          "base_uri": "https://localhost:8080/"
        },
        "outputId": "23089448-f4e5-4704-e584-76ce998bdaba"
      },
      "execution_count": 66,
      "outputs": [
        {
          "output_type": "execute_result",
          "data": {
            "text/plain": [
              "array([[ 0,  0,  0,  0,  0,  0,  0,  0,  0,  0,  0,  0,  0,  0,  0,  0,\n",
              "         0,  0,  0,  0,  0,  0,  0,  0,  0,  0,  0,  0,  0,  0,  0,  0,\n",
              "         0,  0,  0,  0,  0,  0,  0,  0,  0,  0,  0,  0,  0,  0,  0,  0,\n",
              "         0,  0,  0,  0,  0,  0,  0,  0,  0,  0,  0,  0,  0,  0,  0,  0,\n",
              "         0,  0,  0,  0,  0,  0,  0,  0,  0,  0,  0,  0,  0,  0,  0,  0,\n",
              "         0,  0,  0,  0,  0,  0,  0,  0,  0,  0,  0,  0,  0,  0,  0,  0,\n",
              "         0,  0,  0,  0,  0,  0,  0,  0,  0,  0,  0,  0,  0,  0,  0,  0,\n",
              "         0,  0,  0,  0,  0,  0,  0,  0,  0,  0,  0,  0,  0,  0,  0,  0,\n",
              "         0,  0,  0,  0,  0,  0,  0,  0,  0,  0,  0,  0,  0,  0,  0,  0,\n",
              "        31, 17, 19, 25, 34, 37, 15, 27,  9, 19, 32, 34]], dtype=int32)"
            ]
          },
          "metadata": {},
          "execution_count": 66
        }
      ]
    },
    {
      "cell_type": "code",
      "source": [
        "my_ques"
      ],
      "metadata": {
        "id": "Xv5FTAKI4iTe",
        "colab": {
          "base_uri": "https://localhost:8080/"
        },
        "outputId": "e1bed966-3fb4-41d0-e051-40d87b2bc98c"
      },
      "execution_count": 67,
      "outputs": [
        {
          "output_type": "execute_result",
          "data": {
            "text/plain": [
              "array([[19, 27,  9, 19, 32,  6]], dtype=int32)"
            ]
          },
          "metadata": {},
          "execution_count": 67
        }
      ]
    },
    {
      "cell_type": "code",
      "source": [
        "my_ans"
      ],
      "metadata": {
        "id": "j5sF9Wpu4vAF",
        "colab": {
          "base_uri": "https://localhost:8080/"
        },
        "outputId": "34510e44-c53d-4be9-d86b-06fc6ad09da2"
      },
      "execution_count": 68,
      "outputs": [
        {
          "output_type": "execute_result",
          "data": {
            "text/plain": [
              "array([[0., 0., 0., 0., 0., 0., 0., 0., 0., 0., 0., 0., 0., 0., 0., 0.,\n",
              "        0., 0., 0., 0., 0., 0., 0., 0., 1., 0., 0., 0., 0., 0., 0., 0.,\n",
              "        0., 0., 0., 0., 0., 0.]])"
            ]
          },
          "metadata": {},
          "execution_count": 68
        }
      ]
    },
    {
      "cell_type": "code",
      "source": [
        "# Calling the model with the custom test story and question\n",
        "pred_results = model.predict(([my_story, my_ques]))"
      ],
      "metadata": {
        "id": "7uOUA8c94kIP"
      },
      "execution_count": 69,
      "outputs": []
    },
    {
      "cell_type": "code",
      "source": [
        "pred_results"
      ],
      "metadata": {
        "id": "m7apXDBv46zS",
        "colab": {
          "base_uri": "https://localhost:8080/"
        },
        "outputId": "c92124b5-309a-48eb-d9f0-854352bcfc95"
      },
      "execution_count": 70,
      "outputs": [
        {
          "output_type": "execute_result",
          "data": {
            "text/plain": [
              "array([[2.3378391e-10, 2.2713201e-10, 2.0835014e-10, 2.0238099e-10,\n",
              "        1.9226726e-10, 1.8298880e-10, 2.2297010e-10, 2.0942666e-10,\n",
              "        2.2737733e-10, 2.7674021e-10, 1.8559201e-10, 1.9137672e-10,\n",
              "        2.0506756e-10, 2.1743395e-10, 1.8936371e-10, 1.6859776e-10,\n",
              "        2.2981551e-10, 2.0361535e-10, 2.2533952e-10, 2.3223817e-10,\n",
              "        2.2356800e-10, 1.8155645e-10, 2.7324604e-10, 1.8886952e-10,\n",
              "        8.7569976e-01, 2.4738134e-10, 1.2430023e-01, 1.9920612e-10,\n",
              "        1.8042211e-10, 2.2257327e-10, 2.2466060e-10, 1.9773809e-10,\n",
              "        2.2290292e-10, 1.4515475e-10, 1.5840532e-10, 2.1256324e-10,\n",
              "        2.5147839e-10, 1.7681974e-10]], dtype=float32)"
            ]
          },
          "metadata": {},
          "execution_count": 70
        }
      ]
    },
    {
      "cell_type": "code",
      "source": [
        "# Obtaining the highest probabilities\n",
        "val_max = np.argmax(pred_results[0])\n",
        "val_max"
      ],
      "metadata": {
        "id": "bI7xSy9L488D",
        "colab": {
          "base_uri": "https://localhost:8080/"
        },
        "outputId": "a0e2236d-0b38-4d6a-d444-e7e0b132eb50"
      },
      "execution_count": 71,
      "outputs": [
        {
          "output_type": "execute_result",
          "data": {
            "text/plain": [
              "24"
            ]
          },
          "metadata": {},
          "execution_count": 71
        }
      ]
    },
    {
      "cell_type": "code",
      "source": [
        "# Looking up the word from the tokenizer using the highest probability as the value\n",
        "for key, val in tokenizer.word_index.items():\n",
        "  if val == val_max:\n",
        "    k = key\n",
        "print(k)"
      ],
      "metadata": {
        "id": "1z5K36mw5SdN",
        "colab": {
          "base_uri": "https://localhost:8080/"
        },
        "outputId": "b9f747c5-309a-496b-8a09-06d31bac529b"
      },
      "execution_count": 72,
      "outputs": [
        {
          "output_type": "stream",
          "name": "stdout",
          "text": [
            "yes\n"
          ]
        }
      ]
    },
    {
      "cell_type": "code",
      "source": [
        "# Checking how sure the model is about its answer\n",
        "pred_results[0][val_max]"
      ],
      "metadata": {
        "colab": {
          "base_uri": "https://localhost:8080/"
        },
        "id": "Omge23ql6ml6",
        "outputId": "bdc43157-351f-4c4f-b898-a4914ee0dfe1"
      },
      "execution_count": 73,
      "outputs": [
        {
          "output_type": "execute_result",
          "data": {
            "text/plain": [
              "0.87569976"
            ]
          },
          "metadata": {},
          "execution_count": 73
        }
      ]
    }
  ]
}